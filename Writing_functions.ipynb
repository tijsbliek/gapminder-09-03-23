{
 "cells": [
  {
   "cell_type": "code",
   "execution_count": 1,
   "id": "7b36347e",
   "metadata": {},
   "outputs": [],
   "source": [
    "def print_greetings():\n",
    "    print(\"Hello\")\n",
    "    print(\"The weather is nice today\")\n",
    "    print(\"Right?\")"
   ]
  },
  {
   "cell_type": "code",
   "execution_count": 2,
   "id": "51b1dc92",
   "metadata": {},
   "outputs": [
    {
     "name": "stdout",
     "output_type": "stream",
     "text": [
      "Hello\n",
      "The weather is nice today\n",
      "Right?\n"
     ]
    }
   ],
   "source": [
    "print_greetings()"
   ]
  },
  {
   "cell_type": "code",
   "execution_count": null,
   "id": "bf418cac",
   "metadata": {},
   "outputs": [],
   "source": [
    "def print_date(year, )"
   ]
  }
 ],
 "metadata": {
  "kernelspec": {
   "display_name": "Python 3 (ipykernel)",
   "language": "python",
   "name": "python3"
  },
  "language_info": {
   "codemirror_mode": {
    "name": "ipython",
    "version": 3
   },
   "file_extension": ".py",
   "mimetype": "text/x-python",
   "name": "python",
   "nbconvert_exporter": "python",
   "pygments_lexer": "ipython3",
   "version": "3.8.5"
  }
 },
 "nbformat": 4,
 "nbformat_minor": 5
}
