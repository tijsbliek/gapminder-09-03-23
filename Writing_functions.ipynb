{
 "cells": [
  {
   "cell_type": "code",
   "execution_count": 1,
   "id": "f92a70cf",
   "metadata": {},
   "outputs": [],
   "source": [
    "def print_greetings():\n",
    "    print(\"Hello\")\n",
    "    print(\"The weather is nice today\")\n",
    "    print(\"Right?\")"
   ]
  },
  {
   "cell_type": "code",
   "execution_count": 2,
   "id": "f51eacfe",
   "metadata": {},
   "outputs": [
    {
     "name": "stdout",
     "output_type": "stream",
     "text": [
      "Hello\n",
      "The weather is nice today\n",
      "Right?\n"
     ]
    }
   ],
   "source": [
    "print_greetings()"
   ]
  },
  {
   "cell_type": "code",
   "execution_count": 8,
   "id": "fa019c17",
   "metadata": {},
   "outputs": [],
   "source": [
    "def print_date(year, month, day):\n",
    "    joined = str(year) + \"/\" + str(month) + \"/\" + str(day)\n",
    "    print(joined)"
   ]
  },
  {
   "cell_type": "code",
   "execution_count": 9,
   "id": "56c3e34a",
   "metadata": {},
   "outputs": [
    {
     "name": "stdout",
     "output_type": "stream",
     "text": [
      "1871/3/19\n"
     ]
    }
   ],
   "source": [
    "print_date(1871, 3 , 19)"
   ]
  },
  {
   "cell_type": "code",
   "execution_count": 10,
   "id": "bf00f121",
   "metadata": {},
   "outputs": [
    {
     "name": "stdout",
     "output_type": "stream",
     "text": [
      "1871/3/19\n"
     ]
    }
   ],
   "source": [
    "print_date(month=3, day=19, year=1871)"
   ]
  },
  {
   "cell_type": "code",
   "execution_count": 25,
   "id": "fca0b055",
   "metadata": {},
   "outputs": [],
   "source": [
    "def average(values=[]):\n",
    "    if len(values) == 0:\n",
    "        return(none)\n",
    "    else:\n",
    "        return sum(values)/len(values)"
   ]
  },
  {
   "cell_type": "code",
   "execution_count": 26,
   "id": "e039b160",
   "metadata": {},
   "outputs": [
    {
     "ename": "NameError",
     "evalue": "name 'none' is not defined",
     "output_type": "error",
     "traceback": [
      "\u001b[0;31m---------------------------------------------------------------------------\u001b[0m",
      "\u001b[0;31mNameError\u001b[0m                                 Traceback (most recent call last)",
      "Input \u001b[0;32mIn [26]\u001b[0m, in \u001b[0;36m<cell line: 1>\u001b[0;34m()\u001b[0m\n\u001b[0;32m----> 1\u001b[0m \u001b[38;5;28mprint\u001b[39m(\u001b[43maverage\u001b[49m\u001b[43m(\u001b[49m\u001b[43m)\u001b[49m)\n",
      "Input \u001b[0;32mIn [25]\u001b[0m, in \u001b[0;36maverage\u001b[0;34m(values)\u001b[0m\n\u001b[1;32m      1\u001b[0m \u001b[38;5;28;01mdef\u001b[39;00m \u001b[38;5;21maverage\u001b[39m(values\u001b[38;5;241m=\u001b[39m[]):\n\u001b[1;32m      2\u001b[0m     \u001b[38;5;28;01mif\u001b[39;00m \u001b[38;5;28mlen\u001b[39m(values) \u001b[38;5;241m==\u001b[39m \u001b[38;5;241m0\u001b[39m:\n\u001b[0;32m----> 3\u001b[0m         \u001b[38;5;28;01mreturn\u001b[39;00m(\u001b[43mnone\u001b[49m)\n\u001b[1;32m      4\u001b[0m     \u001b[38;5;28;01melse\u001b[39;00m:\n\u001b[1;32m      5\u001b[0m         \u001b[38;5;28;01mreturn\u001b[39;00m \u001b[38;5;28msum\u001b[39m(values)\u001b[38;5;241m/\u001b[39m\u001b[38;5;28mlen\u001b[39m(values)\n",
      "\u001b[0;31mNameError\u001b[0m: name 'none' is not defined"
     ]
    }
   ],
   "source": [
    "print(average())"
   ]
  },
  {
   "cell_type": "code",
   "execution_count": 27,
   "id": "8abc747c",
   "metadata": {},
   "outputs": [
    {
     "name": "stdout",
     "output_type": "stream",
     "text": [
      "4.333333333333333\n"
     ]
    }
   ],
   "source": [
    "print(average([2, 3, 8]))"
   ]
  },
  {
   "cell_type": "code",
   "execution_count": 28,
   "id": "62550ae6",
   "metadata": {},
   "outputs": [
    {
     "name": "stdout",
     "output_type": "stream",
     "text": [
      "4.333333333333333\n"
     ]
    }
   ],
   "source": [
    "mean = average([2,3,8])\n",
    "\n",
    "print(mean)"
   ]
  },
  {
   "cell_type": "code",
   "execution_count": null,
   "id": "4809e1f4",
   "metadata": {},
   "outputs": [],
   "source": []
  }
 ],
 "metadata": {
  "kernelspec": {
   "display_name": "Python 3 (ipykernel)",
   "language": "python",
   "name": "python3"
  },
  "language_info": {
   "codemirror_mode": {
    "name": "ipython",
    "version": 3
   },
   "file_extension": ".py",
   "mimetype": "text/x-python",
   "name": "python",
   "nbconvert_exporter": "python",
   "pygments_lexer": "ipython3",
   "version": "3.8.5"
  }
 },
 "nbformat": 4,
 "nbformat_minor": 5
}
