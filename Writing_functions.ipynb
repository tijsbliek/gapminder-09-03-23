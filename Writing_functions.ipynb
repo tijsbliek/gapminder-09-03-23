{
 "cells": [
  {
   "cell_type": "code",
   "execution_count": 1,
   "id": "729cf434",
   "metadata": {},
   "outputs": [],
   "source": [
    "def print_greetings():\n",
    "    print(\"Hello\")\n",
    "    print(\"The weather is nice today\")\n",
    "    print(\"Right?\")"
   ]
  },
  {
   "cell_type": "code",
   "execution_count": 2,
   "id": "5a94cff2",
   "metadata": {},
   "outputs": [
    {
     "name": "stdout",
     "output_type": "stream",
     "text": [
      "Hello\n",
      "The weather is nice today\n",
      "Right?\n"
     ]
    }
   ],
   "source": [
    "print_greetings()"
   ]
  },
  {
   "cell_type": "code",
   "execution_count": 8,
   "id": "a781ea1e",
   "metadata": {},
   "outputs": [],
   "source": [
    "def print_date(year, month, day):\n",
    "    joined = str(year) + \"/\" + str(month) + \"/\" + str(day)\n",
    "    print(joined)"
   ]
  },
  {
   "cell_type": "code",
   "execution_count": 9,
   "id": "2d73d3f4",
   "metadata": {},
   "outputs": [
    {
     "name": "stdout",
     "output_type": "stream",
     "text": [
      "1871/3/19\n"
     ]
    }
   ],
   "source": [
    "print_date(1871, 3 , 19)"
   ]
  },
  {
   "cell_type": "code",
   "execution_count": 10,
   "id": "6a0b63e9",
   "metadata": {},
   "outputs": [
    {
     "name": "stdout",
     "output_type": "stream",
     "text": [
      "1871/3/19\n"
     ]
    }
   ],
   "source": [
    "print_date(month=3, day=19, year=1871)"
   ]
  },
  {
   "cell_type": "code",
   "execution_count": 31,
   "id": "913d9df8",
   "metadata": {},
   "outputs": [],
   "source": [
    "def average(values=[]):\n",
    "    if len(values) == 0:\n",
    "        return(None)\n",
    "    return sum(values)/len(values)"
   ]
  },
  {
   "cell_type": "code",
   "execution_count": 32,
   "id": "28767d18",
   "metadata": {},
   "outputs": [
    {
     "name": "stdout",
     "output_type": "stream",
     "text": [
      "None\n"
     ]
    }
   ],
   "source": [
    "print(average())"
   ]
  },
  {
   "cell_type": "code",
   "execution_count": 27,
   "id": "f811939c",
   "metadata": {},
   "outputs": [
    {
     "name": "stdout",
     "output_type": "stream",
     "text": [
      "4.333333333333333\n"
     ]
    }
   ],
   "source": [
    "print(average([2, 3, 8]))"
   ]
  },
  {
   "cell_type": "code",
   "execution_count": 28,
   "id": "eac0e7ac",
   "metadata": {},
   "outputs": [
    {
     "name": "stdout",
     "output_type": "stream",
     "text": [
      "4.333333333333333\n"
     ]
    }
   ],
   "source": [
    "mean = average([2,3,8])\n",
    "\n",
    "print(mean)"
   ]
  },
  {
   "cell_type": "code",
   "execution_count": 33,
   "id": "065129b4",
   "metadata": {},
   "outputs": [],
   "source": [
    "average([])"
   ]
  },
  {
   "cell_type": "code",
   "execution_count": 34,
   "id": "cd04baa0",
   "metadata": {},
   "outputs": [],
   "source": [
    "import pandas as pd\n",
    "\n",
    "def min_in_data(filename):\n",
    "    data = pd.read_csv(filename)\n",
    "    return data.min()"
   ]
  },
  {
   "cell_type": "code",
   "execution_count": 35,
   "id": "5ef5c33c",
   "metadata": {},
   "outputs": [
    {
     "name": "stdout",
     "output_type": "stream",
     "text": [
      "continent            Americas\n",
      "country             Argentina\n",
      "gdpPercap_1952    1397.717137\n",
      "gdpPercap_1957    1544.402995\n",
      "gdpPercap_1962    1662.137359\n",
      "gdpPercap_1967    1452.057666\n",
      "gdpPercap_1972    1654.456946\n",
      "gdpPercap_1977    1874.298931\n",
      "gdpPercap_1982    2011.159549\n",
      "gdpPercap_1987    1823.015995\n",
      "gdpPercap_1992    1456.309517\n",
      "gdpPercap_1997    1341.726931\n",
      "gdpPercap_2002    1270.364932\n",
      "gdpPercap_2007    1201.637154\n",
      "dtype: object\n"
     ]
    }
   ],
   "source": [
    "print(min_in_data(\"data/gapminder_gdp_americas.csv\"))"
   ]
  },
  {
   "cell_type": "code",
   "execution_count": 38,
   "id": "9d7ecc83",
   "metadata": {},
   "outputs": [
    {
     "name": "stdout",
     "output_type": "stream",
     "text": [
      "continent            Americas\n",
      "country             Argentina\n",
      "gdpPercap_1952    1397.717137\n",
      "gdpPercap_1957    1544.402995\n",
      "gdpPercap_1962    1662.137359\n",
      "gdpPercap_1967    1452.057666\n",
      "gdpPercap_1972    1654.456946\n",
      "gdpPercap_1977    1874.298931\n",
      "gdpPercap_1982    2011.159549\n",
      "gdpPercap_1987    1823.015995\n",
      "gdpPercap_1992    1456.309517\n",
      "gdpPercap_1997    1341.726931\n",
      "gdpPercap_2002    1270.364932\n",
      "gdpPercap_2007    1201.637154\n",
      "dtype: object\n",
      "country               Albania\n",
      "gdpPercap_1952     973.533195\n",
      "gdpPercap_1957    1353.989176\n",
      "gdpPercap_1962    1709.683679\n",
      "gdpPercap_1967    2172.352423\n",
      "gdpPercap_1972     2860.16975\n",
      "gdpPercap_1977    3528.481305\n",
      "gdpPercap_1982    3630.880722\n",
      "gdpPercap_1987    3738.932735\n",
      "gdpPercap_1992    2497.437901\n",
      "gdpPercap_1997    3193.054604\n",
      "gdpPercap_2002    4604.211737\n",
      "gdpPercap_2007    5937.029526\n",
      "dtype: object\n",
      "continent              Africa\n",
      "country           Afghanistan\n",
      "gdpPercap_1952     298.846212\n",
      "gdpPercap_1957     335.997115\n",
      "gdpPercap_1962     355.203227\n",
      "gdpPercap_1967          349.0\n",
      "gdpPercap_1972          357.0\n",
      "gdpPercap_1977          371.0\n",
      "gdpPercap_1982          424.0\n",
      "gdpPercap_1987          385.0\n",
      "gdpPercap_1992          347.0\n",
      "gdpPercap_1997     312.188423\n",
      "gdpPercap_2002     241.165876\n",
      "gdpPercap_2007     277.551859\n",
      "lifeExp_1952           28.801\n",
      "lifeExp_1957           30.332\n",
      "lifeExp_1962           31.997\n",
      "lifeExp_1967            34.02\n",
      "lifeExp_1972             35.4\n",
      "lifeExp_1977            31.22\n",
      "lifeExp_1982           38.445\n",
      "lifeExp_1987           39.906\n",
      "lifeExp_1992           23.599\n",
      "lifeExp_1997           36.087\n",
      "lifeExp_2002           39.193\n",
      "lifeExp_2007           39.613\n",
      "pop_1952              60011.0\n",
      "pop_1957              61325.0\n",
      "pop_1962              65345.0\n",
      "pop_1967              70787.0\n",
      "pop_1972              76595.0\n",
      "pop_1977              86796.0\n",
      "pop_1982              98593.0\n",
      "pop_1987             110812.0\n",
      "pop_1992             125911.0\n",
      "pop_1997             145608.0\n",
      "pop_2002               170372\n",
      "pop_2007               199579\n",
      "dtype: object\n",
      "country             Australia\n",
      "gdpPercap_1952    10039.59564\n",
      "gdpPercap_1957    10949.64959\n",
      "gdpPercap_1962    12217.22686\n",
      "gdpPercap_1967    14463.91893\n",
      "gdpPercap_1972    16046.03728\n",
      "gdpPercap_1977     16233.7177\n",
      "gdpPercap_1982     17632.4104\n",
      "gdpPercap_1987    19007.19129\n",
      "gdpPercap_1992    18363.32494\n",
      "gdpPercap_1997    21050.41377\n",
      "gdpPercap_2002    23189.80135\n",
      "gdpPercap_2007    25185.00911\n",
      "dtype: object\n",
      "country              Algeria\n",
      "gdpPercap_1952    298.846212\n",
      "gdpPercap_1957    335.997115\n",
      "gdpPercap_1962    355.203227\n",
      "gdpPercap_1967    412.977514\n",
      "gdpPercap_1972    464.099504\n",
      "gdpPercap_1977    502.319733\n",
      "gdpPercap_1982    462.211415\n",
      "gdpPercap_1987    389.876185\n",
      "gdpPercap_1992    410.896824\n",
      "gdpPercap_1997    312.188423\n",
      "gdpPercap_2002    241.165876\n",
      "gdpPercap_2007    277.551859\n",
      "dtype: object\n",
      "country           Afghanistan\n",
      "gdpPercap_1952          331.0\n",
      "gdpPercap_1957          350.0\n",
      "gdpPercap_1962          388.0\n",
      "gdpPercap_1967          349.0\n",
      "gdpPercap_1972          357.0\n",
      "gdpPercap_1977          371.0\n",
      "gdpPercap_1982          424.0\n",
      "gdpPercap_1987          385.0\n",
      "gdpPercap_1992          347.0\n",
      "gdpPercap_1997          415.0\n",
      "gdpPercap_2002          611.0\n",
      "gdpPercap_2007          944.0\n",
      "dtype: object\n"
     ]
    }
   ],
   "source": [
    "import glob\n",
    "\n",
    "filenames = glob.glob(\"data/*.csv\")\n",
    "\n",
    "for filename in filenames:\n",
    "    print(min_in_data(filename))"
   ]
  },
  {
   "cell_type": "code",
   "execution_count": null,
   "id": "187d6ca1",
   "metadata": {},
   "outputs": [],
   "source": []
  }
 ],
 "metadata": {
  "kernelspec": {
   "display_name": "Python 3 (ipykernel)",
   "language": "python",
   "name": "python3"
  },
  "language_info": {
   "codemirror_mode": {
    "name": "ipython",
    "version": 3
   },
   "file_extension": ".py",
   "mimetype": "text/x-python",
   "name": "python",
   "nbconvert_exporter": "python",
   "pygments_lexer": "ipython3",
   "version": "3.8.5"
  }
 },
 "nbformat": 4,
 "nbformat_minor": 5
}
