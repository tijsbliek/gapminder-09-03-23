{
 "cells": [
  {
   "cell_type": "code",
   "execution_count": 1,
   "id": "d1ad6c09",
   "metadata": {},
   "outputs": [],
   "source": [
    "def print_greetings():\n",
    "    print(\"Hello\")\n",
    "    print(\"The weather is nice today\")\n",
    "    print(\"Right?\")"
   ]
  },
  {
   "cell_type": "code",
   "execution_count": 2,
   "id": "cafebab6",
   "metadata": {},
   "outputs": [
    {
     "name": "stdout",
     "output_type": "stream",
     "text": [
      "Hello\n",
      "The weather is nice today\n",
      "Right?\n"
     ]
    }
   ],
   "source": [
    "print_greetings()"
   ]
  },
  {
   "cell_type": "code",
   "execution_count": 8,
   "id": "ff04d343",
   "metadata": {},
   "outputs": [],
   "source": [
    "def print_date(year, month, day):\n",
    "    joined = str(year) + \"/\" + str(month) + \"/\" + str(day)\n",
    "    print(joined)"
   ]
  },
  {
   "cell_type": "code",
   "execution_count": 9,
   "id": "2664b910",
   "metadata": {},
   "outputs": [
    {
     "name": "stdout",
     "output_type": "stream",
     "text": [
      "1871/3/19\n"
     ]
    }
   ],
   "source": [
    "print_date(1871, 3 , 19)"
   ]
  },
  {
   "cell_type": "code",
   "execution_count": 10,
   "id": "17bb6501",
   "metadata": {},
   "outputs": [
    {
     "name": "stdout",
     "output_type": "stream",
     "text": [
      "1871/3/19\n"
     ]
    }
   ],
   "source": [
    "print_date(month=3, day=19, year=1871)"
   ]
  },
  {
   "cell_type": "code",
   "execution_count": 11,
   "id": "cbc4fc36",
   "metadata": {},
   "outputs": [],
   "source": [
    "def average(values):\n",
    "    if len(values) == 0:\n",
    "        return(none)\n",
    "    return sum(values)/len(values)"
   ]
  },
  {
   "cell_type": "code",
   "execution_count": 13,
   "id": "7473671b",
   "metadata": {},
   "outputs": [
    {
     "name": "stdout",
     "output_type": "stream",
     "text": [
      "4.333333333333333\n"
     ]
    }
   ],
   "source": [
    "print(average([2, 3, 8]))"
   ]
  },
  {
   "cell_type": "code",
   "execution_count": null,
   "id": "6f9a3a3d",
   "metadata": {},
   "outputs": [],
   "source": [
    "mean = average([2,3,8])\n",
    "\n",
    "print(mean)"
   ]
  }
 ],
 "metadata": {
  "kernelspec": {
   "display_name": "Python 3 (ipykernel)",
   "language": "python",
   "name": "python3"
  },
  "language_info": {
   "codemirror_mode": {
    "name": "ipython",
    "version": 3
   },
   "file_extension": ".py",
   "mimetype": "text/x-python",
   "name": "python",
   "nbconvert_exporter": "python",
   "pygments_lexer": "ipython3",
   "version": "3.8.5"
  }
 },
 "nbformat": 4,
 "nbformat_minor": 5
}
