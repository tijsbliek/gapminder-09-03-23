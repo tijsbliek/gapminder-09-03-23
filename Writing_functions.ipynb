{
 "cells": [
  {
   "cell_type": "code",
   "execution_count": 1,
   "id": "7f7fb515",
   "metadata": {},
   "outputs": [],
   "source": [
    "def print_greetings():\n",
    "    print(\"Hello\")\n",
    "    print(\"The weather is nice today\")\n",
    "    print(\"Right?\")"
   ]
  },
  {
   "cell_type": "code",
   "execution_count": 2,
   "id": "d2f6a01e",
   "metadata": {},
   "outputs": [
    {
     "name": "stdout",
     "output_type": "stream",
     "text": [
      "Hello\n",
      "The weather is nice today\n",
      "Right?\n"
     ]
    }
   ],
   "source": [
    "print_greetings()"
   ]
  },
  {
   "cell_type": "code",
   "execution_count": 8,
   "id": "473ce488",
   "metadata": {},
   "outputs": [],
   "source": [
    "def print_date(year, month, day):\n",
    "    joined = str(year) + \"/\" + str(month) + \"/\" + str(day)\n",
    "    print(joined)"
   ]
  },
  {
   "cell_type": "code",
   "execution_count": 9,
   "id": "45c6ae94",
   "metadata": {},
   "outputs": [
    {
     "name": "stdout",
     "output_type": "stream",
     "text": [
      "1871/3/19\n"
     ]
    }
   ],
   "source": [
    "print_date(1871, 3 , 19)"
   ]
  },
  {
   "cell_type": "code",
   "execution_count": 10,
   "id": "0bb5542a",
   "metadata": {},
   "outputs": [
    {
     "name": "stdout",
     "output_type": "stream",
     "text": [
      "1871/3/19\n"
     ]
    }
   ],
   "source": [
    "print_date(month=3, day=19, year=1871)"
   ]
  },
  {
   "cell_type": "code",
   "execution_count": 31,
   "id": "1c5a0aa6",
   "metadata": {},
   "outputs": [],
   "source": [
    "def average(values=[]):\n",
    "    if len(values) == 0:\n",
    "        return(None)\n",
    "    return sum(values)/len(values)"
   ]
  },
  {
   "cell_type": "code",
   "execution_count": 32,
   "id": "8475ddc6",
   "metadata": {},
   "outputs": [
    {
     "name": "stdout",
     "output_type": "stream",
     "text": [
      "None\n"
     ]
    }
   ],
   "source": [
    "print(average())"
   ]
  },
  {
   "cell_type": "code",
   "execution_count": 27,
   "id": "d1766d57",
   "metadata": {},
   "outputs": [
    {
     "name": "stdout",
     "output_type": "stream",
     "text": [
      "4.333333333333333\n"
     ]
    }
   ],
   "source": [
    "print(average([2, 3, 8]))"
   ]
  },
  {
   "cell_type": "code",
   "execution_count": 28,
   "id": "93427e35",
   "metadata": {},
   "outputs": [
    {
     "name": "stdout",
     "output_type": "stream",
     "text": [
      "4.333333333333333\n"
     ]
    }
   ],
   "source": [
    "mean = average([2,3,8])\n",
    "\n",
    "print(mean)"
   ]
  },
  {
   "cell_type": "code",
   "execution_count": 33,
   "id": "0240cd9b",
   "metadata": {},
   "outputs": [],
   "source": [
    "average([])"
   ]
  },
  {
   "cell_type": "code",
   "execution_count": 60,
   "id": "f431b288",
   "metadata": {},
   "outputs": [],
   "source": [
    "import pandas as pd\n",
    "\n",
    "def min_in_data(filename):\n",
    "    data = pd.read_csv(filename, index_col=\"country\")\n",
    "     \n",
    "    min_per_year = list(data.min())[1:]\n",
    "\n",
    "    return min(min_per_year)"
   ]
  },
  {
   "cell_type": "code",
   "execution_count": 61,
   "id": "a2e52829",
   "metadata": {},
   "outputs": [
    {
     "name": "stdout",
     "output_type": "stream",
     "text": [
      "1201.637154\n"
     ]
    }
   ],
   "source": [
    "print(min_in_data(\"data/gapminder_gdp_americas.csv\"))"
   ]
  },
  {
   "cell_type": "code",
   "execution_count": 46,
   "id": "eea4e0b5",
   "metadata": {},
   "outputs": [],
   "source": [
    "data = pd.read_csv(\"data/gapminder_gdp_americas.csv\")\n"
   ]
  },
  {
   "cell_type": "code",
   "execution_count": 47,
   "id": "99a52d08",
   "metadata": {},
   "outputs": [
    {
     "name": "stdout",
     "output_type": "stream",
     "text": [
      "1397.717137\n",
      "973.5331948\n",
      "298.8462121\n",
      "10039.59564\n",
      "298.8462121\n",
      "331.0\n"
     ]
    }
   ],
   "source": [
    "import glob\n",
    "\n",
    "filenames = glob.glob(\"data/*.csv\")\n",
    "\n",
    "for filename in filenames:\n",
    "    print(min_in_data(filename))"
   ]
  },
  {
   "cell_type": "code",
   "execution_count": null,
   "id": "47aa1680",
   "metadata": {},
   "outputs": [],
   "source": []
  }
 ],
 "metadata": {
  "kernelspec": {
   "display_name": "Python 3 (ipykernel)",
   "language": "python",
   "name": "python3"
  },
  "language_info": {
   "codemirror_mode": {
    "name": "ipython",
    "version": 3
   },
   "file_extension": ".py",
   "mimetype": "text/x-python",
   "name": "python",
   "nbconvert_exporter": "python",
   "pygments_lexer": "ipython3",
   "version": "3.8.5"
  }
 },
 "nbformat": 4,
 "nbformat_minor": 5
}
