{
 "cells": [
  {
   "cell_type": "code",
   "execution_count": 1,
   "id": "d6f81c4a",
   "metadata": {},
   "outputs": [],
   "source": [
    "import pandas as pd"
   ]
  },
  {
   "cell_type": "code",
   "execution_count": 3,
   "id": "dfa3480f",
   "metadata": {},
   "outputs": [
    {
     "name": "stdout",
     "output_type": "stream",
     "text": [
      "data/gapminder_gdp_africa.csv \n",
      " gdpPercap_1952    298.846212\n",
      "gdpPercap_1957    335.997115\n",
      "gdpPercap_1962    355.203227\n",
      "gdpPercap_1967    412.977514\n",
      "gdpPercap_1972    464.099504\n",
      "gdpPercap_1977    502.319733\n",
      "gdpPercap_1982    462.211415\n",
      "gdpPercap_1987    389.876185\n",
      "gdpPercap_1992    410.896824\n",
      "gdpPercap_1997    312.188423\n",
      "gdpPercap_2002    241.165876\n",
      "gdpPercap_2007    277.551859\n",
      "dtype: float64\n",
      "data/gapminder_gdp_asia.csv \n",
      " gdpPercap_1952    331.0\n",
      "gdpPercap_1957    350.0\n",
      "gdpPercap_1962    388.0\n",
      "gdpPercap_1967    349.0\n",
      "gdpPercap_1972    357.0\n",
      "gdpPercap_1977    371.0\n",
      "gdpPercap_1982    424.0\n",
      "gdpPercap_1987    385.0\n",
      "gdpPercap_1992    347.0\n",
      "gdpPercap_1997    415.0\n",
      "gdpPercap_2002    611.0\n",
      "gdpPercap_2007    944.0\n",
      "dtype: float64\n"
     ]
    }
   ],
   "source": [
    "for filename in [\"data/gapminder_gdp_africa.csv\", \"data/gapminder_gdp_asia.csv\"]:\n",
    "    data = pd.read_csv(filename, index_col = \"country\")\n",
    "    print(filename, \"\\n\", data.min())"
   ]
  },
  {
   "cell_type": "code",
   "execution_count": 4,
   "id": "a97cee0f",
   "metadata": {},
   "outputs": [
    {
     "name": "stdout",
     "output_type": "stream",
     "text": [
      "data/gapminder_gdp_americas.csv\n",
      "data/gapminder_gdp_europe.csv\n",
      "data/gapminder_all.csv\n",
      "data/gapminder_gdp_oceania.csv\n",
      "data/gapminder_gdp_africa.csv\n",
      "data/gapminder_gdp_asia.csv\n"
     ]
    }
   ],
   "source": [
    "import glob\n",
    "List_of_files = glob.glob(\"data/*.csv\")\n",
    "\n",
    "for File in List_of_files:\n",
    "    print(File)\n",
    "\n"
   ]
  },
  {
   "cell_type": "code",
   "execution_count": 6,
   "id": "3fd96f39",
   "metadata": {},
   "outputs": [
    {
     "name": "stdout",
     "output_type": "stream",
     "text": [
      "data/gapminder_gdp_americas.csv \t 1397.717137\n",
      "data/gapminder_gdp_europe.csv \t 973.5331948\n",
      "data/gapminder_all.csv \t 298.8462121\n",
      "data/gapminder_gdp_oceania.csv \t 10039.59564\n",
      "data/gapminder_gdp_africa.csv \t 298.8462121\n",
      "data/gapminder_gdp_asia.csv \t 331.0\n"
     ]
    }
   ],
   "source": [
    "for filename in glob.glob(\"data/*.csv\"):\n",
    "    data = pd.read_csv(filename, index_col=\"country\")\n",
    "    print(filename, \"\\t\", data[\"gdpPercap_1952\"].min())"
   ]
  },
  {
   "cell_type": "code",
   "execution_count": null,
   "id": "718bd7c0",
   "metadata": {},
   "outputs": [],
   "source": []
  }
 ],
 "metadata": {
  "kernelspec": {
   "display_name": "Python 3 (ipykernel)",
   "language": "python",
   "name": "python3"
  },
  "language_info": {
   "codemirror_mode": {
    "name": "ipython",
    "version": 3
   },
   "file_extension": ".py",
   "mimetype": "text/x-python",
   "name": "python",
   "nbconvert_exporter": "python",
   "pygments_lexer": "ipython3",
   "version": "3.8.5"
  }
 },
 "nbformat": 4,
 "nbformat_minor": 5
}
