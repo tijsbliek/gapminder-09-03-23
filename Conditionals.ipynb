{
 "cells": [
  {
   "cell_type": "code",
   "execution_count": 1,
   "id": "f827c3c4",
   "metadata": {},
   "outputs": [
    {
     "name": "stdout",
     "output_type": "stream",
     "text": [
      "3.54 is large\n"
     ]
    }
   ],
   "source": [
    "mass = 3.54\n",
    "if mass > 3.0:\n",
    "    print(mass, \"is large\")\n",
    "    \n",
    "mass = 2.07\n",
    "if mass > 3.0:\n",
    "    print(mass, \"is large\")"
   ]
  },
  {
   "cell_type": "code",
   "execution_count": 2,
   "id": "92479f07",
   "metadata": {},
   "outputs": [
    {
     "name": "stdout",
     "output_type": "stream",
     "text": [
      "3.54 is large\n",
      "9.22 is large\n"
     ]
    }
   ],
   "source": [
    "masses = [3.54, 2.07, 9.22, 1.86, 1.71]\n",
    "\n",
    "for mass in masses:\n",
    "    if mass > 3.0:\n",
    "        print(mass, \"is large\")\n",
    "        \n"
   ]
  },
  {
   "cell_type": "code",
   "execution_count": 3,
   "id": "234a1a38",
   "metadata": {},
   "outputs": [
    {
     "name": "stdout",
     "output_type": "stream",
     "text": [
      "3.54 is large\n",
      "2.07 is small\n",
      "9.22 is large\n",
      "1.86 is small\n",
      "1.71 is small\n"
     ]
    }
   ],
   "source": [
    "masses = [3.54, 2.07, 9.22, 1.86, 1.71]\n",
    "\n",
    "for mass in masses:\n",
    "    if mass > 3.0:\n",
    "        print(mass, \"is large\")\n",
    "    else:\n",
    "        print(mass, \"is small\")\n",
    "        "
   ]
  },
  {
   "cell_type": "code",
   "execution_count": 4,
   "id": "dd81a2c6",
   "metadata": {},
   "outputs": [
    {
     "name": "stdout",
     "output_type": "stream",
     "text": [
      "3.54 is large\n",
      "2.07 is small\n",
      "9.22 is huge\n",
      "1.86 is small\n",
      "1.71 is small\n"
     ]
    }
   ],
   "source": [
    "masses = [3.54, 2.07, 9.22, 1.86, 1.71]\n",
    "\n",
    "for mass in masses:\n",
    "    if mass > 9.0:\n",
    "        print(mass, \"is huge\")\n",
    "    elif mass > 3.0:\n",
    "        print(mass, \"is large\")\n",
    "    else:\n",
    "        print(mass, \"is small\")"
   ]
  },
  {
   "cell_type": "code",
   "execution_count": 5,
   "id": "c60cf7a0",
   "metadata": {},
   "outputs": [
    {
     "name": "stdout",
     "output_type": "stream",
     "text": [
      "3.54 is large\n",
      "2.07 is small\n",
      "9.22 is large\n",
      "1.86 is small\n",
      "1.71 is small\n"
     ]
    }
   ],
   "source": [
    "## wrong order!\n",
    "\n",
    "masses = [3.54, 2.07, 9.22, 1.86, 1.71]\n",
    "\n",
    "for mass in masses:\n",
    "    if mass > 3.0:\n",
    "        print(mass, \"is large\")\n",
    "    elif mass > 9.0:\n",
    "        print(mass, \"is huge\")\n",
    "    else:\n",
    "        print(mass, \"is small\")"
   ]
  },
  {
   "cell_type": "code",
   "execution_count": 6,
   "id": "2fd72432",
   "metadata": {},
   "outputs": [
    {
     "name": "stdout",
     "output_type": "stream",
     "text": [
      "adjusting velocity\n"
     ]
    }
   ],
   "source": [
    "velocity = 10.0\n",
    "\n",
    "if velocity > 20.0:\n",
    "    print(\"moving too fast\")\n",
    "else:\n",
    "    print(\"adjusting velocity\")\n",
    "    velocity = 50.0\n",
    "    "
   ]
  },
  {
   "cell_type": "code",
   "execution_count": 7,
   "id": "904f5e2c",
   "metadata": {},
   "outputs": [
    {
     "data": {
      "text/plain": [
       "50.0"
      ]
     },
     "execution_count": 7,
     "metadata": {},
     "output_type": "execute_result"
    }
   ],
   "source": [
    "velocity"
   ]
  },
  {
   "cell_type": "code",
   "execution_count": 10,
   "id": "ee331fdf",
   "metadata": {},
   "outputs": [
    {
     "name": "stdout",
     "output_type": "stream",
     "text": [
      "0 : 10.0\n",
      "moving too slow\n",
      "1 : 20.0\n",
      "moving too slow\n",
      "2 : 30.0\n",
      "moving too fast\n",
      "3 : 25.0\n",
      "perfect velocity!\n",
      "final velocity is: 25.0\n"
     ]
    }
   ],
   "source": [
    "velocity = 10.0\n",
    "for i in range(5):\n",
    "    print(i, \":\", velocity)\n",
    "    if velocity == 25.0:\n",
    "        print(\"perfect velocity!\")\n",
    "        break\n",
    "    elif velocity >20:\n",
    "        print(\"moving too fast\")\n",
    "        velocity = velocity - 5.0\n",
    "\n",
    "    else:\n",
    "        print(\"moving too slow\")\n",
    "        velocity = velocity + 10.0\n",
    "        \n",
    "print(\"final velocity is:\", velocity)"
   ]
  },
  {
   "cell_type": "code",
   "execution_count": null,
   "id": "04dcf415",
   "metadata": {},
   "outputs": [],
   "source": []
  }
 ],
 "metadata": {
  "kernelspec": {
   "display_name": "Python 3 (ipykernel)",
   "language": "python",
   "name": "python3"
  },
  "language_info": {
   "codemirror_mode": {
    "name": "ipython",
    "version": 3
   },
   "file_extension": ".py",
   "mimetype": "text/x-python",
   "name": "python",
   "nbconvert_exporter": "python",
   "pygments_lexer": "ipython3",
   "version": "3.8.5"
  }
 },
 "nbformat": 4,
 "nbformat_minor": 5
}
