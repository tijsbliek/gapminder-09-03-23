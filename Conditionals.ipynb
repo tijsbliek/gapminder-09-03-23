{
 "cells": [
  {
   "cell_type": "code",
   "execution_count": 1,
   "id": "16f26332",
   "metadata": {},
   "outputs": [
    {
     "name": "stdout",
     "output_type": "stream",
     "text": [
      "3.54 is large\n"
     ]
    }
   ],
   "source": [
    "mass = 3.54\n",
    "if mass > 3.0:\n",
    "    print(mass, \"is large\")\n",
    "    \n",
    "mass = 2.07\n",
    "if mass > 3.0:\n",
    "    print(mass, \"is large\")"
   ]
  },
  {
   "cell_type": "code",
   "execution_count": null,
   "id": "68a7c6ba",
   "metadata": {},
   "outputs": [],
   "source": [
    "masses = [3.54, 2.07, 9.22, 1.86, 1.71]\n",
    "\n",
    "for mass in masse"
   ]
  }
 ],
 "metadata": {
  "kernelspec": {
   "display_name": "Python 3 (ipykernel)",
   "language": "python",
   "name": "python3"
  },
  "language_info": {
   "codemirror_mode": {
    "name": "ipython",
    "version": 3
   },
   "file_extension": ".py",
   "mimetype": "text/x-python",
   "name": "python",
   "nbconvert_exporter": "python",
   "pygments_lexer": "ipython3",
   "version": "3.8.5"
  }
 },
 "nbformat": 4,
 "nbformat_minor": 5
}
